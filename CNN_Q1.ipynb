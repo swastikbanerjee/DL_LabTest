{
 "cells": [
  {
   "cell_type": "markdown",
   "metadata": {},
   "source": [
    "**Calculations for the given CNN Model**"
   ]
  },
  {
   "cell_type": "code",
   "execution_count": 5,
   "metadata": {},
   "outputs": [
    {
     "name": "stdout",
     "output_type": "stream",
     "text": [
      "Q.1. Output volume dimensions after each layer:\n",
      "Conv1 output: (128, 128, 16)\n",
      "MaxPool1 output: (64, 64, 16)\n",
      "Conv2 output: (64, 64, 32)\n",
      "MaxPool2 output: (32, 32, 32)\n",
      "\n",
      "Q.2.Total number of parameters in the CNN (excluding biases):\n",
      "Conv1 params: 416\n",
      "Conv2 params: 4640\n",
      "FC1 params: 8388864\n",
      "Output params: 2570\n"
     ]
    }
   ],
   "source": [
    "input_height = 128\n",
    "input_width = 128\n",
    "input_channels = 1  \n",
    "\n",
    "conv1_filters = 16\n",
    "conv1_kernel_size = 5\n",
    "conv1_stride = 1\n",
    "conv1_padding = 2  \n",
    "\n",
    "conv1_output_height = (input_height + 2 * conv1_padding - conv1_kernel_size) // conv1_stride + 1\n",
    "conv1_output_width = (input_width + 2 * conv1_padding - conv1_kernel_size) // conv1_stride + 1\n",
    "conv1_output_channels = conv1_filters\n",
    "\n",
    "maxpool1_size = 2\n",
    "maxpool1_stride = 2\n",
    "\n",
    "maxpool1_output_height = (conv1_output_height - maxpool1_size) // maxpool1_stride + 1\n",
    "maxpool1_output_width = (conv1_output_width - maxpool1_size) // maxpool1_stride + 1\n",
    "maxpool1_output_channels = conv1_output_channels\n",
    "\n",
    "conv2_filters = 32\n",
    "conv2_kernel_size = 3\n",
    "conv2_stride = 1\n",
    "conv2_padding = 1  \n",
    "\n",
    "conv2_output_height = (maxpool1_output_height + 2 * conv2_padding - conv2_kernel_size) // conv2_stride + 1\n",
    "conv2_output_width = (maxpool1_output_width + 2 * conv2_padding - conv2_kernel_size) // conv2_stride + 1\n",
    "conv2_output_channels = conv2_filters\n",
    "\n",
    "maxpool2_size = 2\n",
    "maxpool2_stride = 2\n",
    "\n",
    "maxpool2_output_height = (conv2_output_height - maxpool2_size) // maxpool2_stride + 1\n",
    "maxpool2_output_width = (conv2_output_width - maxpool2_size) // maxpool2_stride + 1\n",
    "maxpool2_output_channels = conv2_output_channels\n",
    "\n",
    "fc1_neurons = 256\n",
    "\n",
    "output_classes = 10\n",
    "\n",
    "params_conv1 = conv1_filters * (conv1_kernel_size**2) * input_channels + conv1_filters\n",
    "params_conv2 = conv2_filters * (conv2_kernel_size**2) * conv1_output_channels + conv2_filters\n",
    "params_fc1 = maxpool2_output_height * maxpool2_output_width * maxpool2_output_channels * fc1_neurons + fc1_neurons\n",
    "params_output = fc1_neurons * output_classes + output_classes\n",
    "\n",
    "print(\"Q.1. Output volume dimensions after each layer:\")\n",
    "print(f\"Conv1 output: ({conv1_output_height}, {conv1_output_width}, {conv1_output_channels})\")\n",
    "print(f\"MaxPool1 output: ({maxpool1_output_height}, {maxpool1_output_width}, {maxpool1_output_channels})\")\n",
    "print(f\"Conv2 output: ({conv2_output_height}, {conv2_output_width}, {conv2_output_channels})\")\n",
    "print(f\"MaxPool2 output: ({maxpool2_output_height}, {maxpool2_output_width}, {maxpool2_output_channels})\")\n",
    "print()\n",
    "print(\"Q.2.Total number of parameters in the CNN (excluding biases):\")\n",
    "print(f\"Conv1 params: {params_conv1}\")\n",
    "print(f\"Conv2 params: {params_conv2}\")\n",
    "print(f\"FC1 params: {params_fc1}\")\n",
    "print(f\"Output params: {params_output}\")\n"
   ]
  },
  {
   "cell_type": "markdown",
   "metadata": {},
   "source": [
    "(Rough Calculation Results):\n",
    "\n",
    "Q1. Output volume dimensions after each layer:\n",
    "Conv1 output: (128, 128, 16)\n",
    "MaxPool1 output: (64, 64, 16)\n",
    "Conv2 output: (64, 64, 32)\n",
    "MaxPool2 output: (32, 32, 32)\n",
    "\n",
    "Q2. Total number of parameters in the CNN (excluding biases):\n",
    "Conv1 params: 416\n",
    "Conv2 params: 4640\n",
    "FC1 params: 8388864\n",
    "Output params: 2570"
   ]
  }
 ],
 "metadata": {
  "kernelspec": {
   "display_name": "Python 3",
   "language": "python",
   "name": "python3"
  },
  "language_info": {
   "codemirror_mode": {
    "name": "ipython",
    "version": 3
   },
   "file_extension": ".py",
   "mimetype": "text/x-python",
   "name": "python",
   "nbconvert_exporter": "python",
   "pygments_lexer": "ipython3",
   "version": "3.12.0"
  }
 },
 "nbformat": 4,
 "nbformat_minor": 2
}
